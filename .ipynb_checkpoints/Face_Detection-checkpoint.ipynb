{
 "cells": [
  {
   "cell_type": "code",
   "execution_count": 8,
   "id": "ca5e8d27-8bd3-4ecc-9c51-85f1cbd11b68",
   "metadata": {},
   "outputs": [
    {
     "name": "stderr",
     "output_type": "stream",
     "text": [
      "C:\\Users\\Farogh\\AppData\\Local\\Programs\\Python\\Python312\\Lib\\site-packages\\google\\protobuf\\symbol_database.py:55: UserWarning: SymbolDatabase.GetPrototype() is deprecated. Please use message_factory.GetMessageClass() instead. SymbolDatabase.GetPrototype() will be removed soon.\n",
      "  warnings.warn('SymbolDatabase.GetPrototype() is deprecated. Please '\n"
     ]
    }
   ],
   "source": [
    "import mediapipe as mp\n",
    "import numpy as np\n",
    "import cv2   # To read from webcam\n",
    "\n",
    "cap = cv2.VideoCapture(0)\n",
    "\n",
    "facemesh = mp.solutions.face_mesh\n",
    "face = facemesh.FaceMesh(static_image_mode= True, min_detection_confidence=0.6, min_tracking_confidence=0.6)   # its a class\n",
    "draw = mp.solutions.drawing_utils\n",
    "while True:\n",
    "    \n",
    "    _, frame = cap.read()  # cap.read() returns two values\n",
    "    rgb = cv2.cvtColor(frame, cv2.COLOR_BGR2RGB)  # Convert the color frame\n",
    "\n",
    "    op = face.process(rgb)\n",
    "    # print(dir(op))  #as we need - 'multi_face_landmarks' - that how many faces it is returning to us\n",
    "    if op.multi_face_landmarks:\n",
    "        for i in op.multi_face_landmarks:\n",
    "            # print (i)  # give us the landmarks\n",
    "            draw.draw_landmarks(frame, i)\n",
    "            \n",
    "    cv2.imshow(\"Heyy\", frame)\n",
    "\n",
    "    if cv2.waitKey(1) & 0xFF == ord('q'):  # 27: # to quit the task via Esc key (Ascii value = 27)\n",
    "        cap.release()\n",
    "        cv2.destroyAllWindows()\n",
    "        break\n",
    "        \n",
    "    "
   ]
  },
  {
   "cell_type": "code",
   "execution_count": 1,
   "id": "f59a7ccd-ad57-4770-a267-bb9f58b6a25b",
   "metadata": {},
   "outputs": [],
   "source": [
    "# import mediapipe as mp\n",
    "# import numpy as np\n",
    "# import cv2   # To read from webcam\n",
    "\n",
    "# cap = cv2.VideoCapture(0)\n",
    "\n",
    "# while True:\n",
    "#     ret, frame = cap.read()  # Corrected: cap.read() returns two values\n",
    "#     if not ret:\n",
    "#         print(\"Failed to grab frame\")\n",
    "#         break\n",
    "\n",
    "#     cv2.imshow(\"Heyy\", frame)\n",
    "\n",
    "#     if cv2.waitKey(1) == 27: # to quit the task via Esc key\n",
    "#         break\n",
    "        \n",
    "# cap.release()\n",
    "# cv2.destroyAllWindows()\n"
   ]
  },
  {
   "cell_type": "code",
   "execution_count": null,
   "id": "9c67fc48-ced5-42d1-b8eb-81cd5765a76f",
   "metadata": {},
   "outputs": [],
   "source": [
    "# ##### DETECTS FACE HERE IN THIS CODE#########\n",
    "\n",
    "# import mediapipe as mp\n",
    "# import numpy as np\n",
    "# import cv2   # To read from webcam\n",
    "\n",
    "# cap = cv2.VideoCapture(0)\n",
    "\n",
    "# facemesh = mp.solutions.face_mesh\n",
    "# face = facemesh.FaceMesh(static_image_mode= True, min_detection_confidence=0.6, min_tracking_confidence=0.6)   # its a class\n",
    "# draw = mp.solutions.drawing_utils\n",
    "# while True:\n",
    "    \n",
    "#     _, frame = cap.read()  # cap.read() returns two values\n",
    "#     rgb = cv2.cvtColor(frame, cv2.COLOR_BGR2RGB)  # Convert the color frame\n",
    "\n",
    "#     op = face.process(rgb)\n",
    "#     # print(dir(op))  #as we need - 'multi_face_landmarks' - that how many faces it is returning to us\n",
    "#     if op.multi_face_landmarks:\n",
    "#         for i in op.multi_face_landmarks:\n",
    "#             # print (i)  # give us the landmarks\n",
    "#             draw.draw_landmarks(frame, i)\n",
    "            \n",
    "#     cv2.imshow(\"Heyy\", frame)\n",
    "\n",
    "#     if cv2.waitKey(1) & 0xFF == ord('q'):  # 27: # to quit the task via Esc key (Ascii value = 27)\n",
    "#         cap.release()\n",
    "#         cv2.destroyAllWindows()\n",
    "#         break\n",
    "        "
   ]
  }
 ],
 "metadata": {
  "kernelspec": {
   "display_name": "Python 3 (ipykernel)",
   "language": "python",
   "name": "python3"
  },
  "language_info": {
   "codemirror_mode": {
    "name": "ipython",
    "version": 3
   },
   "file_extension": ".py",
   "mimetype": "text/x-python",
   "name": "python",
   "nbconvert_exporter": "python",
   "pygments_lexer": "ipython3",
   "version": "3.12.3"
  }
 },
 "nbformat": 4,
 "nbformat_minor": 5
}
