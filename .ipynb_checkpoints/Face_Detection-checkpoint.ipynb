{
 "cells": [
  {
   "cell_type": "code",
   "execution_count": null,
   "id": "ca5e8d27-8bd3-4ecc-9c51-85f1cbd11b68",
   "metadata": {},
   "outputs": [],
   "source": [
    "import mediapipe as mp\n",
    "import numpy as np\n",
    "import cv2   # To read from webcam\n",
    "\n",
    "cap = cv2.VideoCapture(0)\n",
    "\n",
    "while True:\n",
    "\n",
    "    _, frame = cap.read()  # cap.read() returns two values\n",
    "    cv2.imshow(\"Heyy\", frame)\n",
    "\n",
    "    if cv2.waitKey(1) == 27: # to quit the task via Esc key\n",
    "        cap.release()\n",
    "        cv2.destroyAllWindows()\n",
    "        break\n",
    "        \n",
    "    "
   ]
  },
  {
   "cell_type": "code",
   "execution_count": 1,
   "id": "f59a7ccd-ad57-4770-a267-bb9f58b6a25b",
   "metadata": {},
   "outputs": [],
   "source": [
    "# import mediapipe as mp\n",
    "# import numpy as np\n",
    "# import cv2   # To read from webcam\n",
    "\n",
    "# cap = cv2.VideoCapture(0)\n",
    "\n",
    "# while True:\n",
    "#     ret, frame = cap.read()  # Corrected: cap.read() returns two values\n",
    "#     if not ret:\n",
    "#         print(\"Failed to grab frame\")\n",
    "#         break\n",
    "\n",
    "#     cv2.imshow(\"Heyy\", frame)\n",
    "\n",
    "#     if cv2.waitKey(1) == 27: # to quit the task via Esc key\n",
    "#         break\n",
    "        \n",
    "# cap.release()\n",
    "# cv2.destroyAllWindows()\n"
   ]
  },
  {
   "cell_type": "code",
   "execution_count": null,
   "id": "9c67fc48-ced5-42d1-b8eb-81cd5765a76f",
   "metadata": {},
   "outputs": [],
   "source": []
  }
 ],
 "metadata": {
  "kernelspec": {
   "display_name": "Python 3 (ipykernel)",
   "language": "python",
   "name": "python3"
  },
  "language_info": {
   "codemirror_mode": {
    "name": "ipython",
    "version": 3
   },
   "file_extension": ".py",
   "mimetype": "text/x-python",
   "name": "python",
   "nbconvert_exporter": "python",
   "pygments_lexer": "ipython3",
   "version": "3.12.3"
  }
 },
 "nbformat": 4,
 "nbformat_minor": 5
}
